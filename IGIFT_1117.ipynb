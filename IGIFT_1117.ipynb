{
 "cells": [
  {
   "cell_type": "code",
   "execution_count": 2,
   "metadata": {
    "collapsed": true
   },
   "outputs": [],
   "source": [
    "import re\n",
    "import time\n",
    "import json\n",
    "import requests as r\n",
    "from bs4 import BeautifulSoup as bs"
   ]
  },
  {
   "cell_type": "code",
   "execution_count": 3,
   "metadata": {},
   "outputs": [
    {
     "name": "stdout",
     "output_type": "stream",
     "text": [
      "1\n",
      "2\n",
      "3\n",
      "4\n",
      "5\n",
      "6\n",
      "7\n",
      "8\n",
      "9\n",
      "10\n",
      "11\n",
      "12\n",
      "13\n",
      "14\n",
      "15\n",
      "16\n",
      "17\n",
      "18\n",
      "19\n",
      "20\n",
      "21\n",
      "22\n",
      "23\n",
      "24\n",
      "25\n",
      "26\n",
      "27\n",
      "28\n",
      "29\n",
      "30\n",
      "31\n",
      "32\n",
      "33\n",
      "34\n",
      "35\n"
     ]
    }
   ],
   "source": [
    "url='https://www.igift.tw/products?page=%s'\n",
    "counter = 1\n",
    "switch = True\n",
    "urls = []\n",
    "while switch:\n",
    "    resp = r.get(url%counter)\n",
    "    soup = bs(resp.text, \"html5lib\")\n",
    "    urls.extend([x.get('href') for x in soup.select('ul > li > a') if x.get('href').startswith('/products/')])\n",
    "    pages = soup.select(\"ul.pagination > li > a\")\n",
    "    if pages:\n",
    "        page = pages[-1].text\n",
    "        if page == \"»\":\n",
    "            print(counter)\n",
    "            counter += 1\n",
    "        else:\n",
    "            for i in range(counter, int(page) + 1):\n",
    "                print(i)\n",
    "                resp = r.get(url%i)\n",
    "                soup = bs(resp.text, \"html5lib\")\n",
    "                urls.extend([x.get('href') for x in soup.select('ul > li > a') if x.get('href').startswith('/products/')])\n",
    "            switch = False\n",
    "    else:\n",
    "        switch = False"
   ]
  },
  {
   "cell_type": "code",
   "execution_count": 6,
   "metadata": {},
   "outputs": [
    {
     "name": "stdout",
     "output_type": "stream",
     "text": [
      "0\n",
      "[{'name': '會發聲遮眼吐舌紓壓玩具', 'price': 'NT$588', 'brand': 'IGIFT', 'description': '超可愛舒壓療癒小玩具\\n只要輕輕捏兩側，這只可愛的公仔就會吐舌頭\\n發出“wawoo~~”的聲音，\\n在無聊煩悶的時刻，瞬間融化你的情緒\\n\\n讓你會心一笑❤️', 'href': 'https://www.igift.tw/products/5a0e5fdc9f9a4fe97a001351'}]\n",
      "1\n",
      "[{'name': '會發聲遮眼吐舌紓壓玩具', 'price': 'NT$588', 'brand': 'IGIFT', 'description': '超可愛舒壓療癒小玩具\\n只要輕輕捏兩側，這只可愛的公仔就會吐舌頭\\n發出“wawoo~~”的聲音，\\n在無聊煩悶的時刻，瞬間融化你的情緒\\n\\n讓你會心一笑❤️', 'href': 'https://www.igift.tw/products/5a0e5fdc9f9a4fe97a001351'}, {'name': '會發聲遮眼吐舌紓壓玩具', 'price': 'NT$588', 'brand': 'IGIFT', 'description': '超可愛舒壓療癒小玩具\\n只要輕輕捏兩側，這只可愛的公仔就會吐舌頭\\n發出“wawoo~~”的聲音，\\n在無聊煩悶的時刻，瞬間融化你的情緒\\n\\n讓你會心一笑❤️', 'href': 'https://www.igift.tw/products/5a0e5fdc9f9a4fe97a001351'}]\n",
      "2\n",
      "[{'name': '會發聲遮眼吐舌紓壓玩具', 'price': 'NT$588', 'brand': 'IGIFT', 'description': '超可愛舒壓療癒小玩具\\n只要輕輕捏兩側，這只可愛的公仔就會吐舌頭\\n發出“wawoo~~”的聲音，\\n在無聊煩悶的時刻，瞬間融化你的情緒\\n\\n讓你會心一笑❤️', 'href': 'https://www.igift.tw/products/5a0e5fdc9f9a4fe97a001351'}, {'name': '會發聲遮眼吐舌紓壓玩具', 'price': 'NT$588', 'brand': 'IGIFT', 'description': '超可愛舒壓療癒小玩具\\n只要輕輕捏兩側，這只可愛的公仔就會吐舌頭\\n發出“wawoo~~”的聲音，\\n在無聊煩悶的時刻，瞬間融化你的情緒\\n\\n讓你會心一笑❤️', 'href': 'https://www.igift.tw/products/5a0e5fdc9f9a4fe97a001351'}, {'name': '會發聲遮眼吐舌紓壓玩具', 'price': 'NT$588', 'brand': 'IGIFT', 'description': '超可愛舒壓療癒小玩具\\n只要輕輕捏兩側，這只可愛的公仔就會吐舌頭\\n發出“wawoo~~”的聲音，\\n在無聊煩悶的時刻，瞬間融化你的情緒\\n\\n讓你會心一笑❤️', 'href': 'https://www.igift.tw/products/5a0e5fdc9f9a4fe97a001351'}]\n",
      "3\n",
      "[{'name': '會發聲遮眼吐舌紓壓玩具', 'price': 'NT$588', 'brand': 'IGIFT', 'description': '超可愛舒壓療癒小玩具\\n只要輕輕捏兩側，這只可愛的公仔就會吐舌頭\\n發出“wawoo~~”的聲音，\\n在無聊煩悶的時刻，瞬間融化你的情緒\\n\\n讓你會心一笑❤️', 'href': 'https://www.igift.tw/products/5a0e5fdc9f9a4fe97a001351'}, {'name': '會發聲遮眼吐舌紓壓玩具', 'price': 'NT$588', 'brand': 'IGIFT', 'description': '超可愛舒壓療癒小玩具\\n只要輕輕捏兩側，這只可愛的公仔就會吐舌頭\\n發出“wawoo~~”的聲音，\\n在無聊煩悶的時刻，瞬間融化你的情緒\\n\\n讓你會心一笑❤️', 'href': 'https://www.igift.tw/products/5a0e5fdc9f9a4fe97a001351'}, {'name': '會發聲遮眼吐舌紓壓玩具', 'price': 'NT$588', 'brand': 'IGIFT', 'description': '超可愛舒壓療癒小玩具\\n只要輕輕捏兩側，這只可愛的公仔就會吐舌頭\\n發出“wawoo~~”的聲音，\\n在無聊煩悶的時刻，瞬間融化你的情緒\\n\\n讓你會心一笑❤️', 'href': 'https://www.igift.tw/products/5a0e5fdc9f9a4fe97a001351'}, {'name': '會發聲遮眼吐舌紓壓玩具', 'price': 'NT$588', 'brand': 'IGIFT', 'description': '超可愛舒壓療癒小玩具\\n只要輕輕捏兩側，這只可愛的公仔就會吐舌頭\\n發出“wawoo~~”的聲音，\\n在無聊煩悶的時刻，瞬間融化你的情緒\\n\\n讓你會心一笑❤️', 'href': 'https://www.igift.tw/products/5a0e5fdc9f9a4fe97a001351'}]\n",
      "4\n",
      "[{'name': '會發聲遮眼吐舌紓壓玩具', 'price': 'NT$588', 'brand': 'IGIFT', 'description': '超可愛舒壓療癒小玩具\\n只要輕輕捏兩側，這只可愛的公仔就會吐舌頭\\n發出“wawoo~~”的聲音，\\n在無聊煩悶的時刻，瞬間融化你的情緒\\n\\n讓你會心一笑❤️', 'href': 'https://www.igift.tw/products/5a0e5fdc9f9a4fe97a001351'}, {'name': '會發聲遮眼吐舌紓壓玩具', 'price': 'NT$588', 'brand': 'IGIFT', 'description': '超可愛舒壓療癒小玩具\\n只要輕輕捏兩側，這只可愛的公仔就會吐舌頭\\n發出“wawoo~~”的聲音，\\n在無聊煩悶的時刻，瞬間融化你的情緒\\n\\n讓你會心一笑❤️', 'href': 'https://www.igift.tw/products/5a0e5fdc9f9a4fe97a001351'}, {'name': '會發聲遮眼吐舌紓壓玩具', 'price': 'NT$588', 'brand': 'IGIFT', 'description': '超可愛舒壓療癒小玩具\\n只要輕輕捏兩側，這只可愛的公仔就會吐舌頭\\n發出“wawoo~~”的聲音，\\n在無聊煩悶的時刻，瞬間融化你的情緒\\n\\n讓你會心一笑❤️', 'href': 'https://www.igift.tw/products/5a0e5fdc9f9a4fe97a001351'}, {'name': '會發聲遮眼吐舌紓壓玩具', 'price': 'NT$588', 'brand': 'IGIFT', 'description': '超可愛舒壓療癒小玩具\\n只要輕輕捏兩側，這只可愛的公仔就會吐舌頭\\n發出“wawoo~~”的聲音，\\n在無聊煩悶的時刻，瞬間融化你的情緒\\n\\n讓你會心一笑❤️', 'href': 'https://www.igift.tw/products/5a0e5fdc9f9a4fe97a001351'}, {'name': '會發聲遮眼吐舌紓壓玩具', 'price': 'NT$588', 'brand': 'IGIFT', 'description': '超可愛舒壓療癒小玩具\\n只要輕輕捏兩側，這只可愛的公仔就會吐舌頭\\n發出“wawoo~~”的聲音，\\n在無聊煩悶的時刻，瞬間融化你的情緒\\n\\n讓你會心一笑❤️', 'href': 'https://www.igift.tw/products/5a0e5fdc9f9a4fe97a001351'}]\n",
      "5\n",
      "[{'name': '會發聲遮眼吐舌紓壓玩具', 'price': 'NT$588', 'brand': 'IGIFT', 'description': '超可愛舒壓療癒小玩具\\n只要輕輕捏兩側，這只可愛的公仔就會吐舌頭\\n發出“wawoo~~”的聲音，\\n在無聊煩悶的時刻，瞬間融化你的情緒\\n\\n讓你會心一笑❤️', 'href': 'https://www.igift.tw/products/5a0e5fdc9f9a4fe97a001351'}, {'name': '會發聲遮眼吐舌紓壓玩具', 'price': 'NT$588', 'brand': 'IGIFT', 'description': '超可愛舒壓療癒小玩具\\n只要輕輕捏兩側，這只可愛的公仔就會吐舌頭\\n發出“wawoo~~”的聲音，\\n在無聊煩悶的時刻，瞬間融化你的情緒\\n\\n讓你會心一笑❤️', 'href': 'https://www.igift.tw/products/5a0e5fdc9f9a4fe97a001351'}, {'name': '會發聲遮眼吐舌紓壓玩具', 'price': 'NT$588', 'brand': 'IGIFT', 'description': '超可愛舒壓療癒小玩具\\n只要輕輕捏兩側，這只可愛的公仔就會吐舌頭\\n發出“wawoo~~”的聲音，\\n在無聊煩悶的時刻，瞬間融化你的情緒\\n\\n讓你會心一笑❤️', 'href': 'https://www.igift.tw/products/5a0e5fdc9f9a4fe97a001351'}, {'name': '會發聲遮眼吐舌紓壓玩具', 'price': 'NT$588', 'brand': 'IGIFT', 'description': '超可愛舒壓療癒小玩具\\n只要輕輕捏兩側，這只可愛的公仔就會吐舌頭\\n發出“wawoo~~”的聲音，\\n在無聊煩悶的時刻，瞬間融化你的情緒\\n\\n讓你會心一笑❤️', 'href': 'https://www.igift.tw/products/5a0e5fdc9f9a4fe97a001351'}, {'name': '會發聲遮眼吐舌紓壓玩具', 'price': 'NT$588', 'brand': 'IGIFT', 'description': '超可愛舒壓療癒小玩具\\n只要輕輕捏兩側，這只可愛的公仔就會吐舌頭\\n發出“wawoo~~”的聲音，\\n在無聊煩悶的時刻，瞬間融化你的情緒\\n\\n讓你會心一笑❤️', 'href': 'https://www.igift.tw/products/5a0e5fdc9f9a4fe97a001351'}, {'name': '會發聲遮眼吐舌紓壓玩具', 'price': 'NT$588', 'brand': 'IGIFT', 'description': '超可愛舒壓療癒小玩具\\n只要輕輕捏兩側，這只可愛的公仔就會吐舌頭\\n發出“wawoo~~”的聲音，\\n在無聊煩悶的時刻，瞬間融化你的情緒\\n\\n讓你會心一笑❤️', 'href': 'https://www.igift.tw/products/5a0e5fdc9f9a4fe97a001351'}]\n",
      "6\n",
      "[{'name': '會發聲遮眼吐舌紓壓玩具', 'price': 'NT$588', 'brand': 'IGIFT', 'description': '超可愛舒壓療癒小玩具\\n只要輕輕捏兩側，這只可愛的公仔就會吐舌頭\\n發出“wawoo~~”的聲音，\\n在無聊煩悶的時刻，瞬間融化你的情緒\\n\\n讓你會心一笑❤️', 'href': 'https://www.igift.tw/products/5a0e5fdc9f9a4fe97a001351'}, {'name': '會發聲遮眼吐舌紓壓玩具', 'price': 'NT$588', 'brand': 'IGIFT', 'description': '超可愛舒壓療癒小玩具\\n只要輕輕捏兩側，這只可愛的公仔就會吐舌頭\\n發出“wawoo~~”的聲音，\\n在無聊煩悶的時刻，瞬間融化你的情緒\\n\\n讓你會心一笑❤️', 'href': 'https://www.igift.tw/products/5a0e5fdc9f9a4fe97a001351'}, {'name': '會發聲遮眼吐舌紓壓玩具', 'price': 'NT$588', 'brand': 'IGIFT', 'description': '超可愛舒壓療癒小玩具\\n只要輕輕捏兩側，這只可愛的公仔就會吐舌頭\\n發出“wawoo~~”的聲音，\\n在無聊煩悶的時刻，瞬間融化你的情緒\\n\\n讓你會心一笑❤️', 'href': 'https://www.igift.tw/products/5a0e5fdc9f9a4fe97a001351'}, {'name': '會發聲遮眼吐舌紓壓玩具', 'price': 'NT$588', 'brand': 'IGIFT', 'description': '超可愛舒壓療癒小玩具\\n只要輕輕捏兩側，這只可愛的公仔就會吐舌頭\\n發出“wawoo~~”的聲音，\\n在無聊煩悶的時刻，瞬間融化你的情緒\\n\\n讓你會心一笑❤️', 'href': 'https://www.igift.tw/products/5a0e5fdc9f9a4fe97a001351'}, {'name': '會發聲遮眼吐舌紓壓玩具', 'price': 'NT$588', 'brand': 'IGIFT', 'description': '超可愛舒壓療癒小玩具\\n只要輕輕捏兩側，這只可愛的公仔就會吐舌頭\\n發出“wawoo~~”的聲音，\\n在無聊煩悶的時刻，瞬間融化你的情緒\\n\\n讓你會心一笑❤️', 'href': 'https://www.igift.tw/products/5a0e5fdc9f9a4fe97a001351'}, {'name': '會發聲遮眼吐舌紓壓玩具', 'price': 'NT$588', 'brand': 'IGIFT', 'description': '超可愛舒壓療癒小玩具\\n只要輕輕捏兩側，這只可愛的公仔就會吐舌頭\\n發出“wawoo~~”的聲音，\\n在無聊煩悶的時刻，瞬間融化你的情緒\\n\\n讓你會心一笑❤️', 'href': 'https://www.igift.tw/products/5a0e5fdc9f9a4fe97a001351'}, {'name': '會發聲遮眼吐舌紓壓玩具', 'price': 'NT$588', 'brand': 'IGIFT', 'description': '超可愛舒壓療癒小玩具\\n只要輕輕捏兩側，這只可愛的公仔就會吐舌頭\\n發出“wawoo~~”的聲音，\\n在無聊煩悶的時刻，瞬間融化你的情緒\\n\\n讓你會心一笑❤️', 'href': 'https://www.igift.tw/products/5a0e5fdc9f9a4fe97a001351'}]\n",
      "7\n",
      "[{'name': '會發聲遮眼吐舌紓壓玩具', 'price': 'NT$588', 'brand': 'IGIFT', 'description': '超可愛舒壓療癒小玩具\\n只要輕輕捏兩側，這只可愛的公仔就會吐舌頭\\n發出“wawoo~~”的聲音，\\n在無聊煩悶的時刻，瞬間融化你的情緒\\n\\n讓你會心一笑❤️', 'href': 'https://www.igift.tw/products/5a0e5fdc9f9a4fe97a001351'}, {'name': '會發聲遮眼吐舌紓壓玩具', 'price': 'NT$588', 'brand': 'IGIFT', 'description': '超可愛舒壓療癒小玩具\\n只要輕輕捏兩側，這只可愛的公仔就會吐舌頭\\n發出“wawoo~~”的聲音，\\n在無聊煩悶的時刻，瞬間融化你的情緒\\n\\n讓你會心一笑❤️', 'href': 'https://www.igift.tw/products/5a0e5fdc9f9a4fe97a001351'}, {'name': '會發聲遮眼吐舌紓壓玩具', 'price': 'NT$588', 'brand': 'IGIFT', 'description': '超可愛舒壓療癒小玩具\\n只要輕輕捏兩側，這只可愛的公仔就會吐舌頭\\n發出“wawoo~~”的聲音，\\n在無聊煩悶的時刻，瞬間融化你的情緒\\n\\n讓你會心一笑❤️', 'href': 'https://www.igift.tw/products/5a0e5fdc9f9a4fe97a001351'}, {'name': '會發聲遮眼吐舌紓壓玩具', 'price': 'NT$588', 'brand': 'IGIFT', 'description': '超可愛舒壓療癒小玩具\\n只要輕輕捏兩側，這只可愛的公仔就會吐舌頭\\n發出“wawoo~~”的聲音，\\n在無聊煩悶的時刻，瞬間融化你的情緒\\n\\n讓你會心一笑❤️', 'href': 'https://www.igift.tw/products/5a0e5fdc9f9a4fe97a001351'}, {'name': '會發聲遮眼吐舌紓壓玩具', 'price': 'NT$588', 'brand': 'IGIFT', 'description': '超可愛舒壓療癒小玩具\\n只要輕輕捏兩側，這只可愛的公仔就會吐舌頭\\n發出“wawoo~~”的聲音，\\n在無聊煩悶的時刻，瞬間融化你的情緒\\n\\n讓你會心一笑❤️', 'href': 'https://www.igift.tw/products/5a0e5fdc9f9a4fe97a001351'}, {'name': '會發聲遮眼吐舌紓壓玩具', 'price': 'NT$588', 'brand': 'IGIFT', 'description': '超可愛舒壓療癒小玩具\\n只要輕輕捏兩側，這只可愛的公仔就會吐舌頭\\n發出“wawoo~~”的聲音，\\n在無聊煩悶的時刻，瞬間融化你的情緒\\n\\n讓你會心一笑❤️', 'href': 'https://www.igift.tw/products/5a0e5fdc9f9a4fe97a001351'}, {'name': '會發聲遮眼吐舌紓壓玩具', 'price': 'NT$588', 'brand': 'IGIFT', 'description': '超可愛舒壓療癒小玩具\\n只要輕輕捏兩側，這只可愛的公仔就會吐舌頭\\n發出“wawoo~~”的聲音，\\n在無聊煩悶的時刻，瞬間融化你的情緒\\n\\n讓你會心一笑❤️', 'href': 'https://www.igift.tw/products/5a0e5fdc9f9a4fe97a001351'}, {'name': '會發聲遮眼吐舌紓壓玩具', 'price': 'NT$588', 'brand': 'IGIFT', 'description': '超可愛舒壓療癒小玩具\\n只要輕輕捏兩側，這只可愛的公仔就會吐舌頭\\n發出“wawoo~~”的聲音，\\n在無聊煩悶的時刻，瞬間融化你的情緒\\n\\n讓你會心一笑❤️', 'href': 'https://www.igift.tw/products/5a0e5fdc9f9a4fe97a001351'}]\n"
     ]
    },
    {
     "name": "stdout",
     "output_type": "stream",
     "text": [
      "8\n",
      "[{'name': '會發聲遮眼吐舌紓壓玩具', 'price': 'NT$588', 'brand': 'IGIFT', 'description': '超可愛舒壓療癒小玩具\\n只要輕輕捏兩側，這只可愛的公仔就會吐舌頭\\n發出“wawoo~~”的聲音，\\n在無聊煩悶的時刻，瞬間融化你的情緒\\n\\n讓你會心一笑❤️', 'href': 'https://www.igift.tw/products/5a0e5fdc9f9a4fe97a001351'}, {'name': '會發聲遮眼吐舌紓壓玩具', 'price': 'NT$588', 'brand': 'IGIFT', 'description': '超可愛舒壓療癒小玩具\\n只要輕輕捏兩側，這只可愛的公仔就會吐舌頭\\n發出“wawoo~~”的聲音，\\n在無聊煩悶的時刻，瞬間融化你的情緒\\n\\n讓你會心一笑❤️', 'href': 'https://www.igift.tw/products/5a0e5fdc9f9a4fe97a001351'}, {'name': '會發聲遮眼吐舌紓壓玩具', 'price': 'NT$588', 'brand': 'IGIFT', 'description': '超可愛舒壓療癒小玩具\\n只要輕輕捏兩側，這只可愛的公仔就會吐舌頭\\n發出“wawoo~~”的聲音，\\n在無聊煩悶的時刻，瞬間融化你的情緒\\n\\n讓你會心一笑❤️', 'href': 'https://www.igift.tw/products/5a0e5fdc9f9a4fe97a001351'}, {'name': '會發聲遮眼吐舌紓壓玩具', 'price': 'NT$588', 'brand': 'IGIFT', 'description': '超可愛舒壓療癒小玩具\\n只要輕輕捏兩側，這只可愛的公仔就會吐舌頭\\n發出“wawoo~~”的聲音，\\n在無聊煩悶的時刻，瞬間融化你的情緒\\n\\n讓你會心一笑❤️', 'href': 'https://www.igift.tw/products/5a0e5fdc9f9a4fe97a001351'}, {'name': '會發聲遮眼吐舌紓壓玩具', 'price': 'NT$588', 'brand': 'IGIFT', 'description': '超可愛舒壓療癒小玩具\\n只要輕輕捏兩側，這只可愛的公仔就會吐舌頭\\n發出“wawoo~~”的聲音，\\n在無聊煩悶的時刻，瞬間融化你的情緒\\n\\n讓你會心一笑❤️', 'href': 'https://www.igift.tw/products/5a0e5fdc9f9a4fe97a001351'}, {'name': '會發聲遮眼吐舌紓壓玩具', 'price': 'NT$588', 'brand': 'IGIFT', 'description': '超可愛舒壓療癒小玩具\\n只要輕輕捏兩側，這只可愛的公仔就會吐舌頭\\n發出“wawoo~~”的聲音，\\n在無聊煩悶的時刻，瞬間融化你的情緒\\n\\n讓你會心一笑❤️', 'href': 'https://www.igift.tw/products/5a0e5fdc9f9a4fe97a001351'}, {'name': '會發聲遮眼吐舌紓壓玩具', 'price': 'NT$588', 'brand': 'IGIFT', 'description': '超可愛舒壓療癒小玩具\\n只要輕輕捏兩側，這只可愛的公仔就會吐舌頭\\n發出“wawoo~~”的聲音，\\n在無聊煩悶的時刻，瞬間融化你的情緒\\n\\n讓你會心一笑❤️', 'href': 'https://www.igift.tw/products/5a0e5fdc9f9a4fe97a001351'}, {'name': '會發聲遮眼吐舌紓壓玩具', 'price': 'NT$588', 'brand': 'IGIFT', 'description': '超可愛舒壓療癒小玩具\\n只要輕輕捏兩側，這只可愛的公仔就會吐舌頭\\n發出“wawoo~~”的聲音，\\n在無聊煩悶的時刻，瞬間融化你的情緒\\n\\n讓你會心一笑❤️', 'href': 'https://www.igift.tw/products/5a0e5fdc9f9a4fe97a001351'}, {'name': '會發聲遮眼吐舌紓壓玩具', 'price': 'NT$588', 'brand': 'IGIFT', 'description': '超可愛舒壓療癒小玩具\\n只要輕輕捏兩側，這只可愛的公仔就會吐舌頭\\n發出“wawoo~~”的聲音，\\n在無聊煩悶的時刻，瞬間融化你的情緒\\n\\n讓你會心一笑❤️', 'href': 'https://www.igift.tw/products/5a0e5fdc9f9a4fe97a001351'}]\n",
      "9\n",
      "[{'name': '會發聲遮眼吐舌紓壓玩具', 'price': 'NT$588', 'brand': 'IGIFT', 'description': '超可愛舒壓療癒小玩具\\n只要輕輕捏兩側，這只可愛的公仔就會吐舌頭\\n發出“wawoo~~”的聲音，\\n在無聊煩悶的時刻，瞬間融化你的情緒\\n\\n讓你會心一笑❤️', 'href': 'https://www.igift.tw/products/5a0e5fdc9f9a4fe97a001351'}, {'name': '會發聲遮眼吐舌紓壓玩具', 'price': 'NT$588', 'brand': 'IGIFT', 'description': '超可愛舒壓療癒小玩具\\n只要輕輕捏兩側，這只可愛的公仔就會吐舌頭\\n發出“wawoo~~”的聲音，\\n在無聊煩悶的時刻，瞬間融化你的情緒\\n\\n讓你會心一笑❤️', 'href': 'https://www.igift.tw/products/5a0e5fdc9f9a4fe97a001351'}, {'name': '會發聲遮眼吐舌紓壓玩具', 'price': 'NT$588', 'brand': 'IGIFT', 'description': '超可愛舒壓療癒小玩具\\n只要輕輕捏兩側，這只可愛的公仔就會吐舌頭\\n發出“wawoo~~”的聲音，\\n在無聊煩悶的時刻，瞬間融化你的情緒\\n\\n讓你會心一笑❤️', 'href': 'https://www.igift.tw/products/5a0e5fdc9f9a4fe97a001351'}, {'name': '會發聲遮眼吐舌紓壓玩具', 'price': 'NT$588', 'brand': 'IGIFT', 'description': '超可愛舒壓療癒小玩具\\n只要輕輕捏兩側，這只可愛的公仔就會吐舌頭\\n發出“wawoo~~”的聲音，\\n在無聊煩悶的時刻，瞬間融化你的情緒\\n\\n讓你會心一笑❤️', 'href': 'https://www.igift.tw/products/5a0e5fdc9f9a4fe97a001351'}, {'name': '會發聲遮眼吐舌紓壓玩具', 'price': 'NT$588', 'brand': 'IGIFT', 'description': '超可愛舒壓療癒小玩具\\n只要輕輕捏兩側，這只可愛的公仔就會吐舌頭\\n發出“wawoo~~”的聲音，\\n在無聊煩悶的時刻，瞬間融化你的情緒\\n\\n讓你會心一笑❤️', 'href': 'https://www.igift.tw/products/5a0e5fdc9f9a4fe97a001351'}, {'name': '會發聲遮眼吐舌紓壓玩具', 'price': 'NT$588', 'brand': 'IGIFT', 'description': '超可愛舒壓療癒小玩具\\n只要輕輕捏兩側，這只可愛的公仔就會吐舌頭\\n發出“wawoo~~”的聲音，\\n在無聊煩悶的時刻，瞬間融化你的情緒\\n\\n讓你會心一笑❤️', 'href': 'https://www.igift.tw/products/5a0e5fdc9f9a4fe97a001351'}, {'name': '會發聲遮眼吐舌紓壓玩具', 'price': 'NT$588', 'brand': 'IGIFT', 'description': '超可愛舒壓療癒小玩具\\n只要輕輕捏兩側，這只可愛的公仔就會吐舌頭\\n發出“wawoo~~”的聲音，\\n在無聊煩悶的時刻，瞬間融化你的情緒\\n\\n讓你會心一笑❤️', 'href': 'https://www.igift.tw/products/5a0e5fdc9f9a4fe97a001351'}, {'name': '會發聲遮眼吐舌紓壓玩具', 'price': 'NT$588', 'brand': 'IGIFT', 'description': '超可愛舒壓療癒小玩具\\n只要輕輕捏兩側，這只可愛的公仔就會吐舌頭\\n發出“wawoo~~”的聲音，\\n在無聊煩悶的時刻，瞬間融化你的情緒\\n\\n讓你會心一笑❤️', 'href': 'https://www.igift.tw/products/5a0e5fdc9f9a4fe97a001351'}, {'name': '會發聲遮眼吐舌紓壓玩具', 'price': 'NT$588', 'brand': 'IGIFT', 'description': '超可愛舒壓療癒小玩具\\n只要輕輕捏兩側，這只可愛的公仔就會吐舌頭\\n發出“wawoo~~”的聲音，\\n在無聊煩悶的時刻，瞬間融化你的情緒\\n\\n讓你會心一笑❤️', 'href': 'https://www.igift.tw/products/5a0e5fdc9f9a4fe97a001351'}, {'name': '會發聲遮眼吐舌紓壓玩具', 'price': 'NT$588', 'brand': 'IGIFT', 'description': '超可愛舒壓療癒小玩具\\n只要輕輕捏兩側，這只可愛的公仔就會吐舌頭\\n發出“wawoo~~”的聲音，\\n在無聊煩悶的時刻，瞬間融化你的情緒\\n\\n讓你會心一笑❤️', 'href': 'https://www.igift.tw/products/5a0e5fdc9f9a4fe97a001351'}]\n"
     ]
    },
    {
     "ename": "KeyboardInterrupt",
     "evalue": "",
     "output_type": "error",
     "traceback": [
      "\u001b[1;31m---------------------------------------------------------------------------\u001b[0m",
      "\u001b[1;31mTypeError\u001b[0m                                 Traceback (most recent call last)",
      "\u001b[1;32mC:\\Users\\Java\\Anaconda3\\lib\\site-packages\\requests\\packages\\urllib3\\connectionpool.py\u001b[0m in \u001b[0;36m_make_request\u001b[1;34m(self, conn, method, url, timeout, chunked, **httplib_request_kw)\u001b[0m\n\u001b[0;32m    378\u001b[0m             \u001b[1;32mtry\u001b[0m\u001b[1;33m:\u001b[0m  \u001b[1;31m# Python 2.7, use buffering of HTTP responses\u001b[0m\u001b[1;33m\u001b[0m\u001b[0m\n\u001b[1;32m--> 379\u001b[1;33m                 \u001b[0mhttplib_response\u001b[0m \u001b[1;33m=\u001b[0m \u001b[0mconn\u001b[0m\u001b[1;33m.\u001b[0m\u001b[0mgetresponse\u001b[0m\u001b[1;33m(\u001b[0m\u001b[0mbuffering\u001b[0m\u001b[1;33m=\u001b[0m\u001b[1;32mTrue\u001b[0m\u001b[1;33m)\u001b[0m\u001b[1;33m\u001b[0m\u001b[0m\n\u001b[0m\u001b[0;32m    380\u001b[0m             \u001b[1;32mexcept\u001b[0m \u001b[0mTypeError\u001b[0m\u001b[1;33m:\u001b[0m  \u001b[1;31m# Python 2.6 and older, Python 3\u001b[0m\u001b[1;33m\u001b[0m\u001b[0m\n",
      "\u001b[1;31mTypeError\u001b[0m: getresponse() got an unexpected keyword argument 'buffering'",
      "\nDuring handling of the above exception, another exception occurred:\n",
      "\u001b[1;31mKeyboardInterrupt\u001b[0m                         Traceback (most recent call last)",
      "\u001b[1;32m<ipython-input-6-a1be3cd7c85b>\u001b[0m in \u001b[0;36m<module>\u001b[1;34m()\u001b[0m\n\u001b[0;32m      4\u001b[0m \u001b[1;32mfor\u001b[0m \u001b[0mi\u001b[0m \u001b[1;32min\u001b[0m \u001b[0mrange\u001b[0m\u001b[1;33m(\u001b[0m\u001b[1;36m0\u001b[0m\u001b[1;33m,\u001b[0m\u001b[0mlen\u001b[0m\u001b[1;33m(\u001b[0m\u001b[0murls\u001b[0m\u001b[1;33m)\u001b[0m\u001b[1;33m)\u001b[0m\u001b[1;33m:\u001b[0m\u001b[1;33m\u001b[0m\u001b[0m\n\u001b[0;32m      5\u001b[0m     \u001b[0mpd_url\u001b[0m\u001b[1;33m=\u001b[0m\u001b[1;34m'https://www.igift.tw'\u001b[0m\u001b[1;33m+\u001b[0m \u001b[0murls\u001b[0m\u001b[1;33m[\u001b[0m\u001b[1;36m0\u001b[0m\u001b[1;33m]\u001b[0m\u001b[1;33m\u001b[0m\u001b[0m\n\u001b[1;32m----> 6\u001b[1;33m     \u001b[0mpd_resp\u001b[0m\u001b[1;33m=\u001b[0m\u001b[0mr\u001b[0m\u001b[1;33m.\u001b[0m\u001b[0mget\u001b[0m\u001b[1;33m(\u001b[0m\u001b[0mpd_url\u001b[0m\u001b[1;33m)\u001b[0m\u001b[1;33m\u001b[0m\u001b[0m\n\u001b[0m\u001b[0;32m      7\u001b[0m     \u001b[0mpd_soup\u001b[0m \u001b[1;33m=\u001b[0m \u001b[0mbs\u001b[0m\u001b[1;33m(\u001b[0m\u001b[0mpd_resp\u001b[0m\u001b[1;33m.\u001b[0m\u001b[0mtext\u001b[0m\u001b[1;33m,\u001b[0m\u001b[1;34m'html5lib'\u001b[0m\u001b[1;33m)\u001b[0m\u001b[1;33m\u001b[0m\u001b[0m\n\u001b[0;32m      8\u001b[0m     \u001b[0mpd_name\u001b[0m \u001b[1;33m=\u001b[0m \u001b[0mpd_soup\u001b[0m\u001b[1;33m.\u001b[0m\u001b[0mselect_one\u001b[0m\u001b[1;33m(\u001b[0m\u001b[1;34m\"div > h1\"\u001b[0m\u001b[1;33m)\u001b[0m\u001b[1;33m.\u001b[0m\u001b[0mtext\u001b[0m\u001b[1;33m.\u001b[0m\u001b[0mstrip\u001b[0m\u001b[1;33m(\u001b[0m\u001b[1;33m)\u001b[0m\u001b[1;33m\u001b[0m\u001b[0m\n",
      "\u001b[1;32mC:\\Users\\Java\\Anaconda3\\lib\\site-packages\\requests\\api.py\u001b[0m in \u001b[0;36mget\u001b[1;34m(url, params, **kwargs)\u001b[0m\n\u001b[0;32m     70\u001b[0m \u001b[1;33m\u001b[0m\u001b[0m\n\u001b[0;32m     71\u001b[0m     \u001b[0mkwargs\u001b[0m\u001b[1;33m.\u001b[0m\u001b[0msetdefault\u001b[0m\u001b[1;33m(\u001b[0m\u001b[1;34m'allow_redirects'\u001b[0m\u001b[1;33m,\u001b[0m \u001b[1;32mTrue\u001b[0m\u001b[1;33m)\u001b[0m\u001b[1;33m\u001b[0m\u001b[0m\n\u001b[1;32m---> 72\u001b[1;33m     \u001b[1;32mreturn\u001b[0m \u001b[0mrequest\u001b[0m\u001b[1;33m(\u001b[0m\u001b[1;34m'get'\u001b[0m\u001b[1;33m,\u001b[0m \u001b[0murl\u001b[0m\u001b[1;33m,\u001b[0m \u001b[0mparams\u001b[0m\u001b[1;33m=\u001b[0m\u001b[0mparams\u001b[0m\u001b[1;33m,\u001b[0m \u001b[1;33m**\u001b[0m\u001b[0mkwargs\u001b[0m\u001b[1;33m)\u001b[0m\u001b[1;33m\u001b[0m\u001b[0m\n\u001b[0m\u001b[0;32m     73\u001b[0m \u001b[1;33m\u001b[0m\u001b[0m\n\u001b[0;32m     74\u001b[0m \u001b[1;33m\u001b[0m\u001b[0m\n",
      "\u001b[1;32mC:\\Users\\Java\\Anaconda3\\lib\\site-packages\\requests\\api.py\u001b[0m in \u001b[0;36mrequest\u001b[1;34m(method, url, **kwargs)\u001b[0m\n\u001b[0;32m     56\u001b[0m     \u001b[1;31m# cases, and look like a memory leak in others.\u001b[0m\u001b[1;33m\u001b[0m\u001b[1;33m\u001b[0m\u001b[0m\n\u001b[0;32m     57\u001b[0m     \u001b[1;32mwith\u001b[0m \u001b[0msessions\u001b[0m\u001b[1;33m.\u001b[0m\u001b[0mSession\u001b[0m\u001b[1;33m(\u001b[0m\u001b[1;33m)\u001b[0m \u001b[1;32mas\u001b[0m \u001b[0msession\u001b[0m\u001b[1;33m:\u001b[0m\u001b[1;33m\u001b[0m\u001b[0m\n\u001b[1;32m---> 58\u001b[1;33m         \u001b[1;32mreturn\u001b[0m \u001b[0msession\u001b[0m\u001b[1;33m.\u001b[0m\u001b[0mrequest\u001b[0m\u001b[1;33m(\u001b[0m\u001b[0mmethod\u001b[0m\u001b[1;33m=\u001b[0m\u001b[0mmethod\u001b[0m\u001b[1;33m,\u001b[0m \u001b[0murl\u001b[0m\u001b[1;33m=\u001b[0m\u001b[0murl\u001b[0m\u001b[1;33m,\u001b[0m \u001b[1;33m**\u001b[0m\u001b[0mkwargs\u001b[0m\u001b[1;33m)\u001b[0m\u001b[1;33m\u001b[0m\u001b[0m\n\u001b[0m\u001b[0;32m     59\u001b[0m \u001b[1;33m\u001b[0m\u001b[0m\n\u001b[0;32m     60\u001b[0m \u001b[1;33m\u001b[0m\u001b[0m\n",
      "\u001b[1;32mC:\\Users\\Java\\Anaconda3\\lib\\site-packages\\requests\\sessions.py\u001b[0m in \u001b[0;36mrequest\u001b[1;34m(self, method, url, params, data, headers, cookies, files, auth, timeout, allow_redirects, proxies, hooks, stream, verify, cert, json)\u001b[0m\n\u001b[0;32m    516\u001b[0m         }\n\u001b[0;32m    517\u001b[0m         \u001b[0msend_kwargs\u001b[0m\u001b[1;33m.\u001b[0m\u001b[0mupdate\u001b[0m\u001b[1;33m(\u001b[0m\u001b[0msettings\u001b[0m\u001b[1;33m)\u001b[0m\u001b[1;33m\u001b[0m\u001b[0m\n\u001b[1;32m--> 518\u001b[1;33m         \u001b[0mresp\u001b[0m \u001b[1;33m=\u001b[0m \u001b[0mself\u001b[0m\u001b[1;33m.\u001b[0m\u001b[0msend\u001b[0m\u001b[1;33m(\u001b[0m\u001b[0mprep\u001b[0m\u001b[1;33m,\u001b[0m \u001b[1;33m**\u001b[0m\u001b[0msend_kwargs\u001b[0m\u001b[1;33m)\u001b[0m\u001b[1;33m\u001b[0m\u001b[0m\n\u001b[0m\u001b[0;32m    519\u001b[0m \u001b[1;33m\u001b[0m\u001b[0m\n\u001b[0;32m    520\u001b[0m         \u001b[1;32mreturn\u001b[0m \u001b[0mresp\u001b[0m\u001b[1;33m\u001b[0m\u001b[0m\n",
      "\u001b[1;32mC:\\Users\\Java\\Anaconda3\\lib\\site-packages\\requests\\sessions.py\u001b[0m in \u001b[0;36msend\u001b[1;34m(self, request, **kwargs)\u001b[0m\n\u001b[0;32m    659\u001b[0m \u001b[1;33m\u001b[0m\u001b[0m\n\u001b[0;32m    660\u001b[0m         \u001b[1;31m# Resolve redirects if allowed.\u001b[0m\u001b[1;33m\u001b[0m\u001b[1;33m\u001b[0m\u001b[0m\n\u001b[1;32m--> 661\u001b[1;33m         \u001b[0mhistory\u001b[0m \u001b[1;33m=\u001b[0m \u001b[1;33m[\u001b[0m\u001b[0mresp\u001b[0m \u001b[1;32mfor\u001b[0m \u001b[0mresp\u001b[0m \u001b[1;32min\u001b[0m \u001b[0mgen\u001b[0m\u001b[1;33m]\u001b[0m \u001b[1;32mif\u001b[0m \u001b[0mallow_redirects\u001b[0m \u001b[1;32melse\u001b[0m \u001b[1;33m[\u001b[0m\u001b[1;33m]\u001b[0m\u001b[1;33m\u001b[0m\u001b[0m\n\u001b[0m\u001b[0;32m    662\u001b[0m \u001b[1;33m\u001b[0m\u001b[0m\n\u001b[0;32m    663\u001b[0m         \u001b[1;31m# Shuffle things around if there's history.\u001b[0m\u001b[1;33m\u001b[0m\u001b[1;33m\u001b[0m\u001b[0m\n",
      "\u001b[1;32mC:\\Users\\Java\\Anaconda3\\lib\\site-packages\\requests\\sessions.py\u001b[0m in \u001b[0;36m<listcomp>\u001b[1;34m(.0)\u001b[0m\n\u001b[0;32m    659\u001b[0m \u001b[1;33m\u001b[0m\u001b[0m\n\u001b[0;32m    660\u001b[0m         \u001b[1;31m# Resolve redirects if allowed.\u001b[0m\u001b[1;33m\u001b[0m\u001b[1;33m\u001b[0m\u001b[0m\n\u001b[1;32m--> 661\u001b[1;33m         \u001b[0mhistory\u001b[0m \u001b[1;33m=\u001b[0m \u001b[1;33m[\u001b[0m\u001b[0mresp\u001b[0m \u001b[1;32mfor\u001b[0m \u001b[0mresp\u001b[0m \u001b[1;32min\u001b[0m \u001b[0mgen\u001b[0m\u001b[1;33m]\u001b[0m \u001b[1;32mif\u001b[0m \u001b[0mallow_redirects\u001b[0m \u001b[1;32melse\u001b[0m \u001b[1;33m[\u001b[0m\u001b[1;33m]\u001b[0m\u001b[1;33m\u001b[0m\u001b[0m\n\u001b[0m\u001b[0;32m    662\u001b[0m \u001b[1;33m\u001b[0m\u001b[0m\n\u001b[0;32m    663\u001b[0m         \u001b[1;31m# Shuffle things around if there's history.\u001b[0m\u001b[1;33m\u001b[0m\u001b[1;33m\u001b[0m\u001b[0m\n",
      "\u001b[1;32mC:\\Users\\Java\\Anaconda3\\lib\\site-packages\\requests\\sessions.py\u001b[0m in \u001b[0;36mresolve_redirects\u001b[1;34m(self, resp, req, stream, timeout, verify, cert, proxies, **adapter_kwargs)\u001b[0m\n\u001b[0;32m    212\u001b[0m                 \u001b[0mproxies\u001b[0m\u001b[1;33m=\u001b[0m\u001b[0mproxies\u001b[0m\u001b[1;33m,\u001b[0m\u001b[1;33m\u001b[0m\u001b[0m\n\u001b[0;32m    213\u001b[0m                 \u001b[0mallow_redirects\u001b[0m\u001b[1;33m=\u001b[0m\u001b[1;32mFalse\u001b[0m\u001b[1;33m,\u001b[0m\u001b[1;33m\u001b[0m\u001b[0m\n\u001b[1;32m--> 214\u001b[1;33m                 \u001b[1;33m**\u001b[0m\u001b[0madapter_kwargs\u001b[0m\u001b[1;33m\u001b[0m\u001b[0m\n\u001b[0m\u001b[0;32m    215\u001b[0m             )\n\u001b[0;32m    216\u001b[0m \u001b[1;33m\u001b[0m\u001b[0m\n",
      "\u001b[1;32mC:\\Users\\Java\\Anaconda3\\lib\\site-packages\\requests\\sessions.py\u001b[0m in \u001b[0;36msend\u001b[1;34m(self, request, **kwargs)\u001b[0m\n\u001b[0;32m    637\u001b[0m \u001b[1;33m\u001b[0m\u001b[0m\n\u001b[0;32m    638\u001b[0m         \u001b[1;31m# Send the request\u001b[0m\u001b[1;33m\u001b[0m\u001b[1;33m\u001b[0m\u001b[0m\n\u001b[1;32m--> 639\u001b[1;33m         \u001b[0mr\u001b[0m \u001b[1;33m=\u001b[0m \u001b[0madapter\u001b[0m\u001b[1;33m.\u001b[0m\u001b[0msend\u001b[0m\u001b[1;33m(\u001b[0m\u001b[0mrequest\u001b[0m\u001b[1;33m,\u001b[0m \u001b[1;33m**\u001b[0m\u001b[0mkwargs\u001b[0m\u001b[1;33m)\u001b[0m\u001b[1;33m\u001b[0m\u001b[0m\n\u001b[0m\u001b[0;32m    640\u001b[0m \u001b[1;33m\u001b[0m\u001b[0m\n\u001b[0;32m    641\u001b[0m         \u001b[1;31m# Total elapsed time of the request (approximately)\u001b[0m\u001b[1;33m\u001b[0m\u001b[1;33m\u001b[0m\u001b[0m\n",
      "\u001b[1;32mC:\\Users\\Java\\Anaconda3\\lib\\site-packages\\requests\\adapters.py\u001b[0m in \u001b[0;36msend\u001b[1;34m(self, request, stream, timeout, verify, cert, proxies)\u001b[0m\n\u001b[0;32m    436\u001b[0m                     \u001b[0mdecode_content\u001b[0m\u001b[1;33m=\u001b[0m\u001b[1;32mFalse\u001b[0m\u001b[1;33m,\u001b[0m\u001b[1;33m\u001b[0m\u001b[0m\n\u001b[0;32m    437\u001b[0m                     \u001b[0mretries\u001b[0m\u001b[1;33m=\u001b[0m\u001b[0mself\u001b[0m\u001b[1;33m.\u001b[0m\u001b[0mmax_retries\u001b[0m\u001b[1;33m,\u001b[0m\u001b[1;33m\u001b[0m\u001b[0m\n\u001b[1;32m--> 438\u001b[1;33m                     \u001b[0mtimeout\u001b[0m\u001b[1;33m=\u001b[0m\u001b[0mtimeout\u001b[0m\u001b[1;33m\u001b[0m\u001b[0m\n\u001b[0m\u001b[0;32m    439\u001b[0m                 )\n\u001b[0;32m    440\u001b[0m \u001b[1;33m\u001b[0m\u001b[0m\n",
      "\u001b[1;32mC:\\Users\\Java\\Anaconda3\\lib\\site-packages\\requests\\packages\\urllib3\\connectionpool.py\u001b[0m in \u001b[0;36murlopen\u001b[1;34m(self, method, url, body, headers, retries, redirect, assert_same_host, timeout, pool_timeout, release_conn, chunked, body_pos, **response_kw)\u001b[0m\n\u001b[0;32m    598\u001b[0m                                                   \u001b[0mtimeout\u001b[0m\u001b[1;33m=\u001b[0m\u001b[0mtimeout_obj\u001b[0m\u001b[1;33m,\u001b[0m\u001b[1;33m\u001b[0m\u001b[0m\n\u001b[0;32m    599\u001b[0m                                                   \u001b[0mbody\u001b[0m\u001b[1;33m=\u001b[0m\u001b[0mbody\u001b[0m\u001b[1;33m,\u001b[0m \u001b[0mheaders\u001b[0m\u001b[1;33m=\u001b[0m\u001b[0mheaders\u001b[0m\u001b[1;33m,\u001b[0m\u001b[1;33m\u001b[0m\u001b[0m\n\u001b[1;32m--> 600\u001b[1;33m                                                   chunked=chunked)\n\u001b[0m\u001b[0;32m    601\u001b[0m \u001b[1;33m\u001b[0m\u001b[0m\n\u001b[0;32m    602\u001b[0m             \u001b[1;31m# If we're going to release the connection in ``finally:``, then\u001b[0m\u001b[1;33m\u001b[0m\u001b[1;33m\u001b[0m\u001b[0m\n",
      "\u001b[1;32mC:\\Users\\Java\\Anaconda3\\lib\\site-packages\\requests\\packages\\urllib3\\connectionpool.py\u001b[0m in \u001b[0;36m_make_request\u001b[1;34m(self, conn, method, url, timeout, chunked, **httplib_request_kw)\u001b[0m\n\u001b[0;32m    380\u001b[0m             \u001b[1;32mexcept\u001b[0m \u001b[0mTypeError\u001b[0m\u001b[1;33m:\u001b[0m  \u001b[1;31m# Python 2.6 and older, Python 3\u001b[0m\u001b[1;33m\u001b[0m\u001b[0m\n\u001b[0;32m    381\u001b[0m                 \u001b[1;32mtry\u001b[0m\u001b[1;33m:\u001b[0m\u001b[1;33m\u001b[0m\u001b[0m\n\u001b[1;32m--> 382\u001b[1;33m                     \u001b[0mhttplib_response\u001b[0m \u001b[1;33m=\u001b[0m \u001b[0mconn\u001b[0m\u001b[1;33m.\u001b[0m\u001b[0mgetresponse\u001b[0m\u001b[1;33m(\u001b[0m\u001b[1;33m)\u001b[0m\u001b[1;33m\u001b[0m\u001b[0m\n\u001b[0m\u001b[0;32m    383\u001b[0m                 \u001b[1;32mexcept\u001b[0m \u001b[0mException\u001b[0m \u001b[1;32mas\u001b[0m \u001b[0me\u001b[0m\u001b[1;33m:\u001b[0m\u001b[1;33m\u001b[0m\u001b[0m\n\u001b[0;32m    384\u001b[0m                     \u001b[1;31m# Remove the TypeError from the exception chain in Python 3;\u001b[0m\u001b[1;33m\u001b[0m\u001b[1;33m\u001b[0m\u001b[0m\n",
      "\u001b[1;32mC:\\Users\\Java\\Anaconda3\\lib\\http\\client.py\u001b[0m in \u001b[0;36mgetresponse\u001b[1;34m(self)\u001b[0m\n\u001b[0;32m   1329\u001b[0m         \u001b[1;32mtry\u001b[0m\u001b[1;33m:\u001b[0m\u001b[1;33m\u001b[0m\u001b[0m\n\u001b[0;32m   1330\u001b[0m             \u001b[1;32mtry\u001b[0m\u001b[1;33m:\u001b[0m\u001b[1;33m\u001b[0m\u001b[0m\n\u001b[1;32m-> 1331\u001b[1;33m                 \u001b[0mresponse\u001b[0m\u001b[1;33m.\u001b[0m\u001b[0mbegin\u001b[0m\u001b[1;33m(\u001b[0m\u001b[1;33m)\u001b[0m\u001b[1;33m\u001b[0m\u001b[0m\n\u001b[0m\u001b[0;32m   1332\u001b[0m             \u001b[1;32mexcept\u001b[0m \u001b[0mConnectionError\u001b[0m\u001b[1;33m:\u001b[0m\u001b[1;33m\u001b[0m\u001b[0m\n\u001b[0;32m   1333\u001b[0m                 \u001b[0mself\u001b[0m\u001b[1;33m.\u001b[0m\u001b[0mclose\u001b[0m\u001b[1;33m(\u001b[0m\u001b[1;33m)\u001b[0m\u001b[1;33m\u001b[0m\u001b[0m\n",
      "\u001b[1;32mC:\\Users\\Java\\Anaconda3\\lib\\http\\client.py\u001b[0m in \u001b[0;36mbegin\u001b[1;34m(self)\u001b[0m\n\u001b[0;32m    295\u001b[0m         \u001b[1;31m# read until we get a non-100 response\u001b[0m\u001b[1;33m\u001b[0m\u001b[1;33m\u001b[0m\u001b[0m\n\u001b[0;32m    296\u001b[0m         \u001b[1;32mwhile\u001b[0m \u001b[1;32mTrue\u001b[0m\u001b[1;33m:\u001b[0m\u001b[1;33m\u001b[0m\u001b[0m\n\u001b[1;32m--> 297\u001b[1;33m             \u001b[0mversion\u001b[0m\u001b[1;33m,\u001b[0m \u001b[0mstatus\u001b[0m\u001b[1;33m,\u001b[0m \u001b[0mreason\u001b[0m \u001b[1;33m=\u001b[0m \u001b[0mself\u001b[0m\u001b[1;33m.\u001b[0m\u001b[0m_read_status\u001b[0m\u001b[1;33m(\u001b[0m\u001b[1;33m)\u001b[0m\u001b[1;33m\u001b[0m\u001b[0m\n\u001b[0m\u001b[0;32m    298\u001b[0m             \u001b[1;32mif\u001b[0m \u001b[0mstatus\u001b[0m \u001b[1;33m!=\u001b[0m \u001b[0mCONTINUE\u001b[0m\u001b[1;33m:\u001b[0m\u001b[1;33m\u001b[0m\u001b[0m\n\u001b[0;32m    299\u001b[0m                 \u001b[1;32mbreak\u001b[0m\u001b[1;33m\u001b[0m\u001b[0m\n",
      "\u001b[1;32mC:\\Users\\Java\\Anaconda3\\lib\\http\\client.py\u001b[0m in \u001b[0;36m_read_status\u001b[1;34m(self)\u001b[0m\n\u001b[0;32m    256\u001b[0m \u001b[1;33m\u001b[0m\u001b[0m\n\u001b[0;32m    257\u001b[0m     \u001b[1;32mdef\u001b[0m \u001b[0m_read_status\u001b[0m\u001b[1;33m(\u001b[0m\u001b[0mself\u001b[0m\u001b[1;33m)\u001b[0m\u001b[1;33m:\u001b[0m\u001b[1;33m\u001b[0m\u001b[0m\n\u001b[1;32m--> 258\u001b[1;33m         \u001b[0mline\u001b[0m \u001b[1;33m=\u001b[0m \u001b[0mstr\u001b[0m\u001b[1;33m(\u001b[0m\u001b[0mself\u001b[0m\u001b[1;33m.\u001b[0m\u001b[0mfp\u001b[0m\u001b[1;33m.\u001b[0m\u001b[0mreadline\u001b[0m\u001b[1;33m(\u001b[0m\u001b[0m_MAXLINE\u001b[0m \u001b[1;33m+\u001b[0m \u001b[1;36m1\u001b[0m\u001b[1;33m)\u001b[0m\u001b[1;33m,\u001b[0m \u001b[1;34m\"iso-8859-1\"\u001b[0m\u001b[1;33m)\u001b[0m\u001b[1;33m\u001b[0m\u001b[0m\n\u001b[0m\u001b[0;32m    259\u001b[0m         \u001b[1;32mif\u001b[0m \u001b[0mlen\u001b[0m\u001b[1;33m(\u001b[0m\u001b[0mline\u001b[0m\u001b[1;33m)\u001b[0m \u001b[1;33m>\u001b[0m \u001b[0m_MAXLINE\u001b[0m\u001b[1;33m:\u001b[0m\u001b[1;33m\u001b[0m\u001b[0m\n\u001b[0;32m    260\u001b[0m             \u001b[1;32mraise\u001b[0m \u001b[0mLineTooLong\u001b[0m\u001b[1;33m(\u001b[0m\u001b[1;34m\"status line\"\u001b[0m\u001b[1;33m)\u001b[0m\u001b[1;33m\u001b[0m\u001b[0m\n",
      "\u001b[1;32mC:\\Users\\Java\\Anaconda3\\lib\\socket.py\u001b[0m in \u001b[0;36mreadinto\u001b[1;34m(self, b)\u001b[0m\n\u001b[0;32m    584\u001b[0m         \u001b[1;32mwhile\u001b[0m \u001b[1;32mTrue\u001b[0m\u001b[1;33m:\u001b[0m\u001b[1;33m\u001b[0m\u001b[0m\n\u001b[0;32m    585\u001b[0m             \u001b[1;32mtry\u001b[0m\u001b[1;33m:\u001b[0m\u001b[1;33m\u001b[0m\u001b[0m\n\u001b[1;32m--> 586\u001b[1;33m                 \u001b[1;32mreturn\u001b[0m \u001b[0mself\u001b[0m\u001b[1;33m.\u001b[0m\u001b[0m_sock\u001b[0m\u001b[1;33m.\u001b[0m\u001b[0mrecv_into\u001b[0m\u001b[1;33m(\u001b[0m\u001b[0mb\u001b[0m\u001b[1;33m)\u001b[0m\u001b[1;33m\u001b[0m\u001b[0m\n\u001b[0m\u001b[0;32m    587\u001b[0m             \u001b[1;32mexcept\u001b[0m \u001b[0mtimeout\u001b[0m\u001b[1;33m:\u001b[0m\u001b[1;33m\u001b[0m\u001b[0m\n\u001b[0;32m    588\u001b[0m                 \u001b[0mself\u001b[0m\u001b[1;33m.\u001b[0m\u001b[0m_timeout_occurred\u001b[0m \u001b[1;33m=\u001b[0m \u001b[1;32mTrue\u001b[0m\u001b[1;33m\u001b[0m\u001b[0m\n",
      "\u001b[1;32mC:\\Users\\Java\\Anaconda3\\lib\\site-packages\\requests\\packages\\urllib3\\contrib\\pyopenssl.py\u001b[0m in \u001b[0;36mrecv_into\u001b[1;34m(self, *args, **kwargs)\u001b[0m\n\u001b[0;32m    275\u001b[0m     \u001b[1;32mdef\u001b[0m \u001b[0mrecv_into\u001b[0m\u001b[1;33m(\u001b[0m\u001b[0mself\u001b[0m\u001b[1;33m,\u001b[0m \u001b[1;33m*\u001b[0m\u001b[0margs\u001b[0m\u001b[1;33m,\u001b[0m \u001b[1;33m**\u001b[0m\u001b[0mkwargs\u001b[0m\u001b[1;33m)\u001b[0m\u001b[1;33m:\u001b[0m\u001b[1;33m\u001b[0m\u001b[0m\n\u001b[0;32m    276\u001b[0m         \u001b[1;32mtry\u001b[0m\u001b[1;33m:\u001b[0m\u001b[1;33m\u001b[0m\u001b[0m\n\u001b[1;32m--> 277\u001b[1;33m             \u001b[1;32mreturn\u001b[0m \u001b[0mself\u001b[0m\u001b[1;33m.\u001b[0m\u001b[0mconnection\u001b[0m\u001b[1;33m.\u001b[0m\u001b[0mrecv_into\u001b[0m\u001b[1;33m(\u001b[0m\u001b[1;33m*\u001b[0m\u001b[0margs\u001b[0m\u001b[1;33m,\u001b[0m \u001b[1;33m**\u001b[0m\u001b[0mkwargs\u001b[0m\u001b[1;33m)\u001b[0m\u001b[1;33m\u001b[0m\u001b[0m\n\u001b[0m\u001b[0;32m    278\u001b[0m         \u001b[1;32mexcept\u001b[0m \u001b[0mOpenSSL\u001b[0m\u001b[1;33m.\u001b[0m\u001b[0mSSL\u001b[0m\u001b[1;33m.\u001b[0m\u001b[0mSysCallError\u001b[0m \u001b[1;32mas\u001b[0m \u001b[0me\u001b[0m\u001b[1;33m:\u001b[0m\u001b[1;33m\u001b[0m\u001b[0m\n\u001b[0;32m    279\u001b[0m             \u001b[1;32mif\u001b[0m \u001b[0mself\u001b[0m\u001b[1;33m.\u001b[0m\u001b[0msuppress_ragged_eofs\u001b[0m \u001b[1;32mand\u001b[0m \u001b[0me\u001b[0m\u001b[1;33m.\u001b[0m\u001b[0margs\u001b[0m \u001b[1;33m==\u001b[0m \u001b[1;33m(\u001b[0m\u001b[1;33m-\u001b[0m\u001b[1;36m1\u001b[0m\u001b[1;33m,\u001b[0m \u001b[1;34m'Unexpected EOF'\u001b[0m\u001b[1;33m)\u001b[0m\u001b[1;33m:\u001b[0m\u001b[1;33m\u001b[0m\u001b[0m\n",
      "\u001b[1;32mC:\\Users\\Java\\Anaconda3\\lib\\site-packages\\OpenSSL\\SSL.py\u001b[0m in \u001b[0;36mrecv_into\u001b[1;34m(self, buffer, nbytes, flags)\u001b[0m\n\u001b[0;32m   1544\u001b[0m             \u001b[0mresult\u001b[0m \u001b[1;33m=\u001b[0m \u001b[0m_lib\u001b[0m\u001b[1;33m.\u001b[0m\u001b[0mSSL_peek\u001b[0m\u001b[1;33m(\u001b[0m\u001b[0mself\u001b[0m\u001b[1;33m.\u001b[0m\u001b[0m_ssl\u001b[0m\u001b[1;33m,\u001b[0m \u001b[0mbuf\u001b[0m\u001b[1;33m,\u001b[0m \u001b[0mnbytes\u001b[0m\u001b[1;33m)\u001b[0m\u001b[1;33m\u001b[0m\u001b[0m\n\u001b[0;32m   1545\u001b[0m         \u001b[1;32melse\u001b[0m\u001b[1;33m:\u001b[0m\u001b[1;33m\u001b[0m\u001b[0m\n\u001b[1;32m-> 1546\u001b[1;33m             \u001b[0mresult\u001b[0m \u001b[1;33m=\u001b[0m \u001b[0m_lib\u001b[0m\u001b[1;33m.\u001b[0m\u001b[0mSSL_read\u001b[0m\u001b[1;33m(\u001b[0m\u001b[0mself\u001b[0m\u001b[1;33m.\u001b[0m\u001b[0m_ssl\u001b[0m\u001b[1;33m,\u001b[0m \u001b[0mbuf\u001b[0m\u001b[1;33m,\u001b[0m \u001b[0mnbytes\u001b[0m\u001b[1;33m)\u001b[0m\u001b[1;33m\u001b[0m\u001b[0m\n\u001b[0m\u001b[0;32m   1547\u001b[0m         \u001b[0mself\u001b[0m\u001b[1;33m.\u001b[0m\u001b[0m_raise_ssl_error\u001b[0m\u001b[1;33m(\u001b[0m\u001b[0mself\u001b[0m\u001b[1;33m.\u001b[0m\u001b[0m_ssl\u001b[0m\u001b[1;33m,\u001b[0m \u001b[0mresult\u001b[0m\u001b[1;33m)\u001b[0m\u001b[1;33m\u001b[0m\u001b[0m\n\u001b[0;32m   1548\u001b[0m \u001b[1;33m\u001b[0m\u001b[0m\n",
      "\u001b[1;31mKeyboardInterrupt\u001b[0m: "
     ]
    }
   ],
   "source": [
    "product = []\n",
    "count =0\n",
    "tStart = time.time()\n",
    "for i in range(0,len(urls)):\n",
    "    pd_url='https://www.igift.tw'+ urls[0]\n",
    "    pd_resp=r.get(pd_url)\n",
    "    pd_soup = bs(pd_resp.text,'html5lib')\n",
    "    pd_name = pd_soup.select_one(\"div > h1\").text.strip()\n",
    "    pd_price = pd_soup.select_one('div.price').text.strip()\n",
    "#下面TRY是因為有些是預購商品，會加上備註，但在這邊不需要\n",
    "#     try:\n",
    "#         pd_notice = pd_soup.select_one('div.checkout-label').text.strip()\n",
    "#     except:\n",
    "#         pd_notice = 'None'\n",
    "#         print(pd_url + ' ' + 'NO NOTICE')\n",
    "#         pass\n",
    "    pd_description = pd_soup.select_one('div.description-container''').text.strip()\n",
    "    \n",
    "    product.append({\n",
    "                    'name' : pd_name,\n",
    "                    'price' : pd_price,\n",
    "                    #'notice' : pd_notice,\n",
    "                    'brand':'IGIFT',\n",
    "                    'description':pd_description,\n",
    "                    'href':pd_url\n",
    "                })\n",
    "    print(count)\n",
    "    print(product)\n",
    "    count+=1\n",
    "with open('./igif.json', 'w', encoding='utf-8') as f:\n",
    "    json.dump(product, f, indent=2, sort_keys=True, ensure_ascii=False)\n",
    "\n",
    "tEnd = time.time()\n",
    "print(tEnd-tStart)"
   ]
  },
  {
   "cell_type": "code",
   "execution_count": null,
   "metadata": {
    "collapsed": true
   },
   "outputs": [],
   "source": [
    "#圖片網址\n",
    "resp = requests.get(\"https://www.igift.tw/products/%E4%B9%BE%E7%87%A5%E8%8A%B1%E8%BF%B7%E4%BD%A0%E5%B0%8F%E8%8A%B1%E6%9D%9F%E7%A6%AE%E7%9B%92-%E9%80%81%E7%A6%AE%E9%A6%96%E9%81%B8\")\n",
    "jd = json.loads(re.findall(\"app.value\\(\\'product\\', ({.*})\\);\", resp.text)[0])\n",
    "len(jd['variations'])\n",
    "for href in jd['variations']:\n",
    "    for url in href['media']['images']:\n",
    "        print(href['media']['images'][url]['url'])"
   ]
  },
  {
   "cell_type": "code",
   "execution_count": null,
   "metadata": {
    "collapsed": true
   },
   "outputs": [],
   "source": [
    "#款式\n",
    "for style in jd['variations']:\n",
    "    print(style['fields'][0][\"name\"])"
   ]
  }
 ],
 "metadata": {
  "kernelspec": {
   "display_name": "Python 3",
   "language": "python",
   "name": "python3"
  },
  "language_info": {
   "codemirror_mode": {
    "name": "ipython",
    "version": 3
   },
   "file_extension": ".py",
   "mimetype": "text/x-python",
   "name": "python",
   "nbconvert_exporter": "python",
   "pygments_lexer": "ipython3",
   "version": "3.6.1"
  }
 },
 "nbformat": 4,
 "nbformat_minor": 2
}
